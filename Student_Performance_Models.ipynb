{
 "cells": [
  {
   "cell_type": "markdown",
   "metadata": {},
   "source": [
    "# Student Performance - Models"
   ]
  },
  {
   "cell_type": "markdown",
   "metadata": {},
   "source": [
    "## Set Up Environment"
   ]
  },
  {
   "cell_type": "code",
   "execution_count": 1,
   "metadata": {},
   "outputs": [],
   "source": [
    "import pandas as pd\n",
    "import numpy as np\n",
    "import matplotlib.pyplot as plt\n",
    "%matplotlib inline\n",
    "\n",
    "from sklearn.linear_model import LinearRegression\n",
    "from sklearn.svm import LinearSVR\n",
    "from sklearn.neighbors import kNeighborsRegressor\n",
    "from sklearn.ensemble import RandomForestRegressor, GradientBoostingRegressor\n",
    "\n",
    "from sklearn import preprocessing\n",
    "from sklearn.metrics import mean_squared_error, r2_score"
   ]
  },
  {
   "cell_type": "code",
   "execution_count": 2,
   "metadata": {},
   "outputs": [
    {
     "data": {
      "text/html": [
       "<div>\n",
       "<style scoped>\n",
       "    .dataframe tbody tr th:only-of-type {\n",
       "        vertical-align: middle;\n",
       "    }\n",
       "\n",
       "    .dataframe tbody tr th {\n",
       "        vertical-align: top;\n",
       "    }\n",
       "\n",
       "    .dataframe thead th {\n",
       "        text-align: right;\n",
       "    }\n",
       "</style>\n",
       "<table border=\"1\" class=\"dataframe\">\n",
       "  <thead>\n",
       "    <tr style=\"text-align: right;\">\n",
       "      <th></th>\n",
       "      <th>gender</th>\n",
       "      <th>race/ethnicity</th>\n",
       "      <th>parental level of education</th>\n",
       "      <th>lunch</th>\n",
       "      <th>test preparation course</th>\n",
       "      <th>math score</th>\n",
       "      <th>reading score</th>\n",
       "      <th>writing score</th>\n",
       "    </tr>\n",
       "  </thead>\n",
       "  <tbody>\n",
       "    <tr>\n",
       "      <th>0</th>\n",
       "      <td>female</td>\n",
       "      <td>group B</td>\n",
       "      <td>bachelor's degree</td>\n",
       "      <td>standard</td>\n",
       "      <td>none</td>\n",
       "      <td>72</td>\n",
       "      <td>72</td>\n",
       "      <td>74</td>\n",
       "    </tr>\n",
       "    <tr>\n",
       "      <th>1</th>\n",
       "      <td>female</td>\n",
       "      <td>group C</td>\n",
       "      <td>some college</td>\n",
       "      <td>standard</td>\n",
       "      <td>completed</td>\n",
       "      <td>69</td>\n",
       "      <td>90</td>\n",
       "      <td>88</td>\n",
       "    </tr>\n",
       "    <tr>\n",
       "      <th>2</th>\n",
       "      <td>female</td>\n",
       "      <td>group B</td>\n",
       "      <td>master's degree</td>\n",
       "      <td>standard</td>\n",
       "      <td>none</td>\n",
       "      <td>90</td>\n",
       "      <td>95</td>\n",
       "      <td>93</td>\n",
       "    </tr>\n",
       "  </tbody>\n",
       "</table>\n",
       "</div>"
      ],
      "text/plain": [
       "   gender race/ethnicity parental level of education     lunch  \\\n",
       "0  female        group B           bachelor's degree  standard   \n",
       "1  female        group C                some college  standard   \n",
       "2  female        group B             master's degree  standard   \n",
       "\n",
       "  test preparation course  math score  reading score  writing score  \n",
       "0                    none          72             72             74  \n",
       "1               completed          69             90             88  \n",
       "2                    none          90             95             93  "
      ]
     },
     "execution_count": 2,
     "metadata": {},
     "output_type": "execute_result"
    }
   ],
   "source": [
    "scores = pd.read_csv('data/StudentsPerformance_Polished.csv')\n",
    "scores.head(3)"
   ]
  },
  {
   "cell_type": "markdown",
   "metadata": {},
   "source": [
    "## Define Classes"
   ]
  },
  {
   "cell_type": "code",
   "execution_count": null,
   "metadata": {},
   "outputs": [],
   "source": [
    "class Data_Processing:\n",
    "    \"\"\"\n",
    "    This class is for cleaning data and preparing it for modeling.\n",
    "    \n",
    "    Attributes:\n",
    "        data (dataframe): The pandas dataframe supplied when initiating a process_data object.\n",
    "    \"\"\"\n",
    "    \n",
    "    def __init__(self, data):\n",
    "        \"\"\"This method is the constructor for the process_data class.\"\"\"\n",
    "        self.data = data\n",
    "    \n",
    "    def label_encode(self, col, new_col, map_dict):\n",
    "        \"\"\"This method converts categorical variables to numeric based on hierarchy, defined by the map_dict parameter.\"\"\"\n",
    "        self.data[new_col] = self.data[col].map(map_dict)\n",
    "    \n",
    "    def one_hot_encode(self, col, drop_first=True):\n",
    "        \"\"\"This method converts non-hierarchical categorical variables to dummy variables.\"\"\"\n",
    "        self.data = pd.get_dummies(self.data, columns=[col], drop_first=drop_first)\n",
    "        \n",
    "    def drop_columns(self, cols):\n",
    "        \"\"\"This method drops a single or a list of columns.\"\"\"\n",
    "        self.data.drop(cols, axis=1, inplace=True)\n",
    "    \n",
    "    def transform(self, col, new_col, function):\n",
    "        \"\"\"This method uses a function to convert the values in an existing column to new values in a new column.\"\"\"\n",
    "        self.data[new_col] = self.data[col].apply(function)\n",
    "    \n",
    "    def convert_to_bool(self, string):\n",
    "        \"\"\"This method creates an indicator value from a string.\"\"\"\n",
    "        if string == 'NONE':\n",
    "            return 0\n",
    "        else:\n",
    "            return 1\n",
    "    \n",
    "    def normalize(self, col, new_col):\n",
    "        \"\"\"This method scales numeric variables to 0-1 range.\"\"\"\n",
    "        self.data[new_col] = preprocessing.Normalizer(norm='max').transform([self.data[col]])[0]"
   ]
  },
  {
   "cell_type": "code",
   "execution_count": null,
   "metadata": {},
   "outputs": [],
   "source": [
    "class Model:\n",
    "    \"\"\"\n",
    "    This class is for building a model, training it, and using it to make predictions.\n",
    "    \n",
    "    Attributes:\n",
    "        model_type: The type of model used to make predictions.  This is provided when instantiating the object.\n",
    "        data (dataframe): The pandas dataframe used to train the model and use it for predictions.\n",
    "        features (list): The variables used by the model to make predictions.\n",
    "        target: The value the model aims to predict.\n",
    "        model: The model after it has been fitted to the training data.\n",
    "    \"\"\"\n",
    "    \n",
    "    def __init__(self, model_type, data, features, target, model_name):\n",
    "        \"\"\"This method is the constructor for the model class.\"\"\"\n",
    "        self.model = model_type\n",
    "        self.data = data\n",
    "        self.features = features\n",
    "        self.target = target\n",
    "        self.name = model_name\n",
    "    \n",
    "    def build_model(self, compare_df, test_size=.2):\n",
    "        \"\"\"This method splits the dataframe into training and test sets, trains the model on the training data, \n",
    "        makes predictions on the test set, and saves metrics in the compare_df dataframe.\"\"\"\n",
    "        \n",
    "        # Split data set into training and test sets based on the test_size parameter\n",
    "        features_train, features_test, target_train, target_test = train_test_split(self.data[self.features], self.data[self.target], test_size=test_size)\n",
    "        \n",
    "        # Fit the model to the training data and save the score as a variable\n",
    "        self.model = self.model.fit(features_train, target_train)\n",
    "        training_r2 = model.score(features_train, target_train)\n",
    "#         self.model = model\n",
    "        \n",
    "        # Make predictions on the test set and save the R^2 and MSE scores as variables\n",
    "        predicted_target = model.predict(features_test)\n",
    "        test_r2 = r2_score(y_true=target_test, y_pred=predicted_target)\n",
    "        mse = mean_squared_error(y_true=target_test, y_pred=predicted_target)\n",
    "        rmse = mse**.5\n",
    "        \n",
    "        # Add the 3 scores to the compare_df (given as an argument)\n",
    "        compare_df.loc[self.model_name] = [training_r2, test_r2, rmse, 0]\n",
    "        \n",
    "        return model\n",
    "    \n",
    "    def cross_validate(self, cv, scoring='neg_mean_squared_error'):\n",
    "        \"\"\"This method runs cross validation on the dataset.\"\"\"\n",
    "        neg_mse = cross_val_score(self.model, self.data[self.features], self.data[self.target],  cv=cv, scoring=scoring)\n",
    "        avg_mse = sum(neg_mse) / len(neg_mse) * -1.0\n",
    "        avg_rmse = avg_mse**.5\n",
    "        compare_df.loc[self.model_name, 'cv_rmse'] = avg_rmse\n",
    "    \n",
    "    def predict(self, data):\n",
    "        \"\"\"This method makes predictions on the given dataset.\"\"\"\n",
    "        predictions = self.model.predict(data)\n",
    "        return predictions"
   ]
  },
  {
   "cell_type": "code",
   "execution_count": null,
   "metadata": {},
   "outputs": [],
   "source": [
    "class Compare:\n",
    "    \"\"\"\n",
    "    This class is for comparing the results of different models.\n",
    "    \n",
    "    Attributes:\n",
    "        data (dataframe): The pandas dataframe supplied when initiating a compare object.\n",
    "    \"\"\"\n",
    "    \n",
    "    def __init__(self, df):\n",
    "        \"\"\"This method is the constructor for the compare class.\"\"\"\n",
    "        self.data = df\n",
    "    \n",
    "    def graph_results(self, col, name, figsize=(7,4), left_margin=.4):\n",
    "        \"\"\"This method creates a bar graph of a given column of the dataframe and saves it as a jpg file.\"\"\"\n",
    "        \n",
    "        metric_compare = self.data[col].sort_values()\n",
    "        graph_title = col.replace('_',' ')\n",
    "        file_name = 'charts/model_comparison_{}.jpg'.format(name)\n",
    "        \n",
    "        fig, ax = plt.subplots(figsize=figsize)\n",
    "        fig.subplots_adjust(left=left_margin)\n",
    "        ax.barh(metric_compare.index, metric_compare)\n",
    "        ax.set_title(graph_title)\n",
    "        ax.spines['top'].set_visible(False)\n",
    "        ax.spines['right'].set_visible(False)\n",
    "        plt.savefig(file_name)"
   ]
  },
  {
   "cell_type": "markdown",
   "metadata": {},
   "source": [
    "## Prepare Data for Modeling"
   ]
  },
  {
   "cell_type": "code",
   "execution_count": null,
   "metadata": {},
   "outputs": [],
   "source": [
    "model_data = Data_Processing(scores)\n",
    "\n",
    "model_data.normalize('math score', 'math score norm')\n",
    "model_data.normalize('reading score', 'reading score norm')\n",
    "model_data.normalize('writing score', 'writing score norm')\n",
    "\n",
    "level_of_education_map = {\n",
    "    \"some high school\": 1,\n",
    "    \"high school\": 2,\n",
    "    \"some college\": 3,\n",
    "    \"associate's degree\": 4,\n",
    "    \"bachelor's degree\": 5,\n",
    "    \"master's degree\": 6\n",
    "}\n",
    "model_data.label_encode('parental level of education', 'parental level of education code', level_of_education_map)\n",
    "\n",
    "category_cols = ['gender', 'race/ethnicity', 'lunch', 'test preparation course']\n",
    "for col in category_cols:\n",
    "    model_data.one_hot_encode(col)"
   ]
  },
  {
   "cell_type": "markdown",
   "metadata": {},
   "source": [
    "## Build Models"
   ]
  },
  {
   "cell_type": "code",
   "execution_count": null,
   "metadata": {},
   "outputs": [],
   "source": [
    "lin_reg = LinearRegression()\n",
    "svm_reg = LinearSVR()\n",
    "knn_reg = kNeighborsRegressor()\n",
    "rf_reg = RandomForestRegressor()\n",
    "gb_reg = GradientBoostingRegressor()\n",
    "\n",
    "model_compare = pd.DataFrame(columns=['training_r2', 'test_r2', 'rmse', 'cv_rmse'])"
   ]
  },
  {
   "cell_type": "markdown",
   "metadata": {},
   "source": [
    "### Predicting Math Score"
   ]
  },
  {
   "cell_type": "code",
   "execution_count": null,
   "metadata": {},
   "outputs": [],
   "source": [
    "math_features = list(model_data.data.columns)\n",
    "\n",
    "remove_cols = ['math score', 'reading score', 'writing score', 'math score norm']\n",
    "for col in remove_cols:\n",
    "    math_features.remove(col)\n",
    "\n",
    "math_target = 'math score'"
   ]
  },
  {
   "cell_type": "code",
   "execution_count": null,
   "metadata": {},
   "outputs": [],
   "source": [
    "lreg = Model(lin_reg, model_data.data, math_features, math_target, 'Linear Regression - Math')\n",
    "lreg.build_model(model_compare)\n",
    "lreg.cross_validate(4)"
   ]
  },
  {
   "cell_type": "code",
   "execution_count": null,
   "metadata": {},
   "outputs": [],
   "source": [
    "model_compare"
   ]
  },
  {
   "cell_type": "markdown",
   "metadata": {},
   "source": [
    "### Predicting Reading Score"
   ]
  },
  {
   "cell_type": "code",
   "execution_count": null,
   "metadata": {},
   "outputs": [],
   "source": [
    "reading_features = list(model_data.data.columns)\n",
    "\n",
    "remove_cols = ['math score', 'reading score', 'writing score', 'reading score norm']\n",
    "for col in remove_cols:\n",
    "    reading_features.remove(col)\n",
    "\n",
    "reading_target = 'reading score'"
   ]
  },
  {
   "cell_type": "code",
   "execution_count": null,
   "metadata": {},
   "outputs": [],
   "source": [
    "lreg = Model(lin_reg, model_data.data, reading_features, reading_target, 'Linear Regression - Reading')\n",
    "lreg.build_model(model_compare)\n",
    "lreg.cross_validate(4)"
   ]
  },
  {
   "cell_type": "code",
   "execution_count": null,
   "metadata": {},
   "outputs": [],
   "source": [
    "model_compare"
   ]
  },
  {
   "cell_type": "markdown",
   "metadata": {},
   "source": [
    "### Predicting Writing Score"
   ]
  },
  {
   "cell_type": "code",
   "execution_count": null,
   "metadata": {},
   "outputs": [],
   "source": [
    "writing_features = list(model_data.data.columns)\n",
    "\n",
    "remove_cols = ['math score', 'reading score', 'writing score', 'writing score norm']\n",
    "for col in remove_cols:\n",
    "    writing_features.remove(col)\n",
    "\n",
    "writing_target = 'writing score'"
   ]
  },
  {
   "cell_type": "code",
   "execution_count": null,
   "metadata": {},
   "outputs": [],
   "source": [
    "lreg = Model(lin_reg, model_data.data, writing_features, writing_target, 'Linear Regression - Writing')\n",
    "lreg.build_model(model_compare)\n",
    "lreg.cross_validate(4)"
   ]
  },
  {
   "cell_type": "code",
   "execution_count": null,
   "metadata": {},
   "outputs": [],
   "source": [
    "model_compare"
   ]
  },
  {
   "cell_type": "code",
   "execution_count": null,
   "metadata": {},
   "outputs": [],
   "source": []
  }
 ],
 "metadata": {
  "kernelspec": {
   "display_name": "Python 3",
   "language": "python",
   "name": "python3"
  },
  "language_info": {
   "codemirror_mode": {
    "name": "ipython",
    "version": 3
   },
   "file_extension": ".py",
   "mimetype": "text/x-python",
   "name": "python",
   "nbconvert_exporter": "python",
   "pygments_lexer": "ipython3",
   "version": "3.7.6"
  }
 },
 "nbformat": 4,
 "nbformat_minor": 4
}
