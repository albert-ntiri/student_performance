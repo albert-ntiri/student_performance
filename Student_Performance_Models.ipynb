{
 "cells": [
  {
   "cell_type": "markdown",
   "metadata": {},
   "source": [
    "# Student Performance - Models"
   ]
  },
  {
   "cell_type": "markdown",
   "metadata": {},
   "source": [
    "## Set Up Environment"
   ]
  },
  {
   "cell_type": "code",
   "execution_count": 1,
   "metadata": {},
   "outputs": [],
   "source": [
    "import pandas as pd\n",
    "import numpy as np\n",
    "import matplotlib.pyplot as plt\n",
    "%matplotlib inline\n",
    "\n",
    "from sklearn.linear_model import LinearRegression\n",
    "from sklearn.svm import LinearSVR\n",
    "from sklearn.neighbors import KNeighborsRegressor\n",
    "from sklearn.ensemble import RandomForestRegressor, GradientBoostingRegressor\n",
    "\n",
    "from sklearn import preprocessing\n",
    "from sklearn.model_selection import train_test_split, cross_val_score\n",
    "from sklearn.metrics import mean_squared_error, r2_score"
   ]
  },
  {
   "cell_type": "code",
   "execution_count": 2,
   "metadata": {},
   "outputs": [
    {
     "data": {
      "text/html": [
       "<div>\n",
       "<style scoped>\n",
       "    .dataframe tbody tr th:only-of-type {\n",
       "        vertical-align: middle;\n",
       "    }\n",
       "\n",
       "    .dataframe tbody tr th {\n",
       "        vertical-align: top;\n",
       "    }\n",
       "\n",
       "    .dataframe thead th {\n",
       "        text-align: right;\n",
       "    }\n",
       "</style>\n",
       "<table border=\"1\" class=\"dataframe\">\n",
       "  <thead>\n",
       "    <tr style=\"text-align: right;\">\n",
       "      <th></th>\n",
       "      <th>gender</th>\n",
       "      <th>race/ethnicity</th>\n",
       "      <th>parental level of education</th>\n",
       "      <th>lunch</th>\n",
       "      <th>test preparation course</th>\n",
       "      <th>math score</th>\n",
       "      <th>reading score</th>\n",
       "      <th>writing score</th>\n",
       "      <th>math score gender mean</th>\n",
       "      <th>math score gender median</th>\n",
       "      <th>...</th>\n",
       "      <th>reading score test preparation course min</th>\n",
       "      <th>reading score test preparation course max</th>\n",
       "      <th>reading score test preparation course stdev</th>\n",
       "      <th>reading score test preparation course count</th>\n",
       "      <th>writing score test preparation course mean</th>\n",
       "      <th>writing score test preparation course median</th>\n",
       "      <th>writing score test preparation course min</th>\n",
       "      <th>writing score test preparation course max</th>\n",
       "      <th>writing score test preparation course stdev</th>\n",
       "      <th>writing score test preparation course count</th>\n",
       "    </tr>\n",
       "  </thead>\n",
       "  <tbody>\n",
       "    <tr>\n",
       "      <th>0</th>\n",
       "      <td>female</td>\n",
       "      <td>group B</td>\n",
       "      <td>bachelor's degree</td>\n",
       "      <td>standard</td>\n",
       "      <td>none</td>\n",
       "      <td>72</td>\n",
       "      <td>72</td>\n",
       "      <td>74</td>\n",
       "      <td>63.6</td>\n",
       "      <td>65.0</td>\n",
       "      <td>...</td>\n",
       "      <td>17</td>\n",
       "      <td>100</td>\n",
       "      <td>14.463885</td>\n",
       "      <td>642</td>\n",
       "      <td>64.5</td>\n",
       "      <td>65.0</td>\n",
       "      <td>10</td>\n",
       "      <td>100</td>\n",
       "      <td>14.999661</td>\n",
       "      <td>642</td>\n",
       "    </tr>\n",
       "    <tr>\n",
       "      <th>1</th>\n",
       "      <td>female</td>\n",
       "      <td>group C</td>\n",
       "      <td>some college</td>\n",
       "      <td>standard</td>\n",
       "      <td>completed</td>\n",
       "      <td>69</td>\n",
       "      <td>90</td>\n",
       "      <td>88</td>\n",
       "      <td>63.6</td>\n",
       "      <td>65.0</td>\n",
       "      <td>...</td>\n",
       "      <td>37</td>\n",
       "      <td>100</td>\n",
       "      <td>13.638384</td>\n",
       "      <td>358</td>\n",
       "      <td>74.4</td>\n",
       "      <td>76.0</td>\n",
       "      <td>36</td>\n",
       "      <td>100</td>\n",
       "      <td>13.375335</td>\n",
       "      <td>358</td>\n",
       "    </tr>\n",
       "    <tr>\n",
       "      <th>2</th>\n",
       "      <td>female</td>\n",
       "      <td>group B</td>\n",
       "      <td>master's degree</td>\n",
       "      <td>standard</td>\n",
       "      <td>none</td>\n",
       "      <td>90</td>\n",
       "      <td>95</td>\n",
       "      <td>93</td>\n",
       "      <td>63.6</td>\n",
       "      <td>65.0</td>\n",
       "      <td>...</td>\n",
       "      <td>17</td>\n",
       "      <td>100</td>\n",
       "      <td>14.463885</td>\n",
       "      <td>642</td>\n",
       "      <td>64.5</td>\n",
       "      <td>65.0</td>\n",
       "      <td>10</td>\n",
       "      <td>100</td>\n",
       "      <td>14.999661</td>\n",
       "      <td>642</td>\n",
       "    </tr>\n",
       "  </tbody>\n",
       "</table>\n",
       "<p>3 rows × 98 columns</p>\n",
       "</div>"
      ],
      "text/plain": [
       "   gender race/ethnicity parental level of education     lunch  \\\n",
       "0  female        group B           bachelor's degree  standard   \n",
       "1  female        group C                some college  standard   \n",
       "2  female        group B             master's degree  standard   \n",
       "\n",
       "  test preparation course  math score  reading score  writing score  \\\n",
       "0                    none          72             72             74   \n",
       "1               completed          69             90             88   \n",
       "2                    none          90             95             93   \n",
       "\n",
       "   math score gender mean  math score gender median  ...  \\\n",
       "0                    63.6                      65.0  ...   \n",
       "1                    63.6                      65.0  ...   \n",
       "2                    63.6                      65.0  ...   \n",
       "\n",
       "   reading score test preparation course min  \\\n",
       "0                                         17   \n",
       "1                                         37   \n",
       "2                                         17   \n",
       "\n",
       "   reading score test preparation course max  \\\n",
       "0                                        100   \n",
       "1                                        100   \n",
       "2                                        100   \n",
       "\n",
       "   reading score test preparation course stdev  \\\n",
       "0                                    14.463885   \n",
       "1                                    13.638384   \n",
       "2                                    14.463885   \n",
       "\n",
       "   reading score test preparation course count  \\\n",
       "0                                          642   \n",
       "1                                          358   \n",
       "2                                          642   \n",
       "\n",
       "   writing score test preparation course mean  \\\n",
       "0                                        64.5   \n",
       "1                                        74.4   \n",
       "2                                        64.5   \n",
       "\n",
       "   writing score test preparation course median  \\\n",
       "0                                          65.0   \n",
       "1                                          76.0   \n",
       "2                                          65.0   \n",
       "\n",
       "   writing score test preparation course min  \\\n",
       "0                                         10   \n",
       "1                                         36   \n",
       "2                                         10   \n",
       "\n",
       "   writing score test preparation course max  \\\n",
       "0                                        100   \n",
       "1                                        100   \n",
       "2                                        100   \n",
       "\n",
       "   writing score test preparation course stdev  \\\n",
       "0                                    14.999661   \n",
       "1                                    13.375335   \n",
       "2                                    14.999661   \n",
       "\n",
       "   writing score test preparation course count  \n",
       "0                                          642  \n",
       "1                                          358  \n",
       "2                                          642  \n",
       "\n",
       "[3 rows x 98 columns]"
      ]
     },
     "execution_count": 2,
     "metadata": {},
     "output_type": "execute_result"
    }
   ],
   "source": [
    "scores = pd.read_csv('data/StudentsPerformance_Polished.csv')\n",
    "scores.head(3)"
   ]
  },
  {
   "cell_type": "markdown",
   "metadata": {},
   "source": [
    "## Define Classes"
   ]
  },
  {
   "cell_type": "code",
   "execution_count": 3,
   "metadata": {},
   "outputs": [],
   "source": [
    "class Data_Processing:\n",
    "    \"\"\"\n",
    "    This class is for cleaning data and preparing it for modeling.\n",
    "    \n",
    "    Attributes:\n",
    "        data (dataframe): The pandas dataframe supplied when initiating a process_data object.\n",
    "    \"\"\"\n",
    "    \n",
    "    def __init__(self, data):\n",
    "        \"\"\"This method is the constructor for the process_data class.\"\"\"\n",
    "        self.data = data\n",
    "    \n",
    "    def label_encode(self, col, map_dict):\n",
    "        \"\"\"This method converts categorical variables to numeric based on hierarchy, defined by the map_dict parameter.\"\"\"\n",
    "        self.data[col] = self.data[col].map(map_dict)\n",
    "    \n",
    "    def one_hot_encode(self, col, drop_first=True):\n",
    "        \"\"\"This method converts non-hierarchical categorical variables to dummy variables.\"\"\"\n",
    "        self.data = pd.get_dummies(self.data, columns=[col], drop_first=drop_first)\n",
    "        \n",
    "    def drop_columns(self, cols):\n",
    "        \"\"\"This method drops a single or a list of columns.\"\"\"\n",
    "        self.data.drop(cols, axis=1, inplace=True)\n",
    "    \n",
    "    def transform(self, col, new_col, function):\n",
    "        \"\"\"This method uses a function to convert the values in an existing column to new values in a new column.\"\"\"\n",
    "        self.data[new_col] = self.data[col].apply(function)\n",
    "    \n",
    "    def convert_to_bool(self, string):\n",
    "        \"\"\"This method creates an indicator value from a string.\"\"\"\n",
    "        if string == 'NONE':\n",
    "            return 0\n",
    "        else:\n",
    "            return 1\n",
    "    \n",
    "    def normalize(self, col, new_col):\n",
    "        \"\"\"This method scales numeric variables to 0-1 range.\"\"\"\n",
    "        self.data[new_col] = preprocessing.Normalizer(norm='max').transform([self.data[col]])[0]"
   ]
  },
  {
   "cell_type": "code",
   "execution_count": 4,
   "metadata": {},
   "outputs": [],
   "source": [
    "class Model:\n",
    "    \"\"\"\n",
    "    This class is for building a model, training it, and using it to make predictions.\n",
    "    \n",
    "    Attributes:\n",
    "        model_type: The type of model used to make predictions.  This is provided when instantiating the object.\n",
    "        data (dataframe): The pandas dataframe used to train the model and use it for predictions.\n",
    "        features (list): The variables used by the model to make predictions.\n",
    "        target: The value the model aims to predict.\n",
    "        model: The model after it has been fitted to the training data.\n",
    "    \"\"\"\n",
    "    \n",
    "    def __init__(self, model_type, data, features, target, model_name):\n",
    "        \"\"\"This method is the constructor for the model class.\"\"\"\n",
    "        self.model = model_type\n",
    "        self.data = data\n",
    "        self.features = features\n",
    "        self.target = target\n",
    "        self.name = model_name\n",
    "    \n",
    "    def build_model(self, compare_df, test_size=.2):\n",
    "        \"\"\"This method splits the dataframe into training and test sets, trains the model on the training data, \n",
    "        makes predictions on the test set, and saves metrics in the compare_df dataframe.\"\"\"\n",
    "        \n",
    "        # Split data set into training and test sets based on the test_size parameter\n",
    "        features_train, features_test, target_train, target_test = train_test_split(\n",
    "            self.data[self.features], self.data[self.target], test_size=test_size)\n",
    "        \n",
    "        # Fit the model to the training data and save the score as a variable\n",
    "        self.model = self.model.fit(features_train, target_train)\n",
    "        training_r2 = self.model.score(features_train, target_train)\n",
    "        \n",
    "        # Make predictions on the test set and save the R^2 and MSE scores as variables\n",
    "        predicted_target = self.model.predict(features_test)\n",
    "        test_r2 = r2_score(y_true=target_test, y_pred=predicted_target)\n",
    "        mse = mean_squared_error(y_true=target_test, y_pred=predicted_target)\n",
    "        rmse = mse**.5\n",
    "        \n",
    "        # Add the 3 scores to the compare_df (given as an argument)\n",
    "        compare_df.loc[self.name] = [training_r2, test_r2, rmse, 0]\n",
    "        \n",
    "        return self.model\n",
    "    \n",
    "    def cross_validate(self, cv, compare_df, scoring='neg_mean_squared_error'):\n",
    "        \"\"\"This method runs cross validation on the dataset.\"\"\"\n",
    "        neg_mse = cross_val_score(self.model, self.data[self.features], self.data[self.target],  cv=cv, scoring=scoring)\n",
    "        avg_mse = sum(neg_mse) / len(neg_mse) * -1.0\n",
    "        avg_rmse = avg_mse**.5\n",
    "        compare_df.loc[self.name, 'Cross Validation Score'] = avg_rmse\n",
    "    \n",
    "    def get_coefficients(self, test_size=.2):\n",
    "        \"\"\"This method gets the coefficients of the model and displays them as a series.\"\"\"\n",
    "        features_train, features_test, target_train, target_test = train_test_split(\n",
    "            self.data[self.features], self.data[self.target], test_size=test_size)\n",
    "        self.model = self.model.fit(features_train, target_train)\n",
    "        coefficients = pd.Series(self.model.coef_, index=features_train.columns).sort_values(ascending=False)\n",
    "        return coefficients\n",
    "    \n",
    "    def predict(self, data):\n",
    "        \"\"\"This method makes predictions on the given dataset.\"\"\"\n",
    "        predictions = self.model.predict(data)\n",
    "        return predictions"
   ]
  },
  {
   "cell_type": "code",
   "execution_count": 5,
   "metadata": {},
   "outputs": [],
   "source": [
    "class Compare:\n",
    "    \"\"\"\n",
    "    This class is for comparing the results of different models.\n",
    "    \n",
    "    Attributes:\n",
    "        data (dataframe): The pandas dataframe supplied when initiating a compare object.\n",
    "    \"\"\"\n",
    "    \n",
    "    def __init__(self, df):\n",
    "        \"\"\"This method is the constructor for the compare class.\"\"\"\n",
    "        self.data = df\n",
    "    \n",
    "    def graph_results(self, col, name, figsize=(7,4), left_margin=.4):\n",
    "        \"\"\"This method creates a bar graph of a given column of the dataframe and saves it as a jpg file.\"\"\"\n",
    "        \n",
    "        metric_compare = self.data[col].sort_values()\n",
    "        graph_title = col.replace('_',' ')\n",
    "        file_name = 'charts/model_comparison_{}.jpg'.format(name)\n",
    "        \n",
    "        fig, ax = plt.subplots(figsize=figsize)\n",
    "        fig.subplots_adjust(left=left_margin)\n",
    "        ax.barh(metric_compare.index, metric_compare)\n",
    "        ax.set_title(graph_title)\n",
    "        ax.spines['top'].set_visible(False)\n",
    "        ax.spines['right'].set_visible(False)\n",
    "        plt.savefig(file_name)"
   ]
  },
  {
   "cell_type": "markdown",
   "metadata": {},
   "source": [
    "## Prepare Data for Modeling"
   ]
  },
  {
   "cell_type": "code",
   "execution_count": 6,
   "metadata": {},
   "outputs": [],
   "source": [
    "category_cols = ['gender', 'race/ethnicity', 'lunch', 'test preparation course']\n",
    "\n",
    "student_performance_cols = ['math score', 'reading score', 'writing score']\n",
    "student_performance_norm_cols = ['math score norm', 'reading score norm', 'writing score norm']\n",
    "\n",
    "group_metric_cols = list(scores.columns)\n",
    "for col in (category_cols + student_performance_cols + ['parental level of education']):\n",
    "    group_metric_cols.remove(col)"
   ]
  },
  {
   "cell_type": "code",
   "execution_count": 7,
   "metadata": {},
   "outputs": [],
   "source": [
    "model_data = Data_Processing(scores)\n",
    "\n",
    "for i in range(len(student_performance_cols)):\n",
    "    model_data.normalize(student_performance_cols[i], student_performance_norm_cols[i])\n",
    "\n",
    "for col in group_metric_cols:\n",
    "    model_data.normalize(col, col)\n",
    "\n",
    "level_of_education_map = {\n",
    "    \"some high school\": 1,\n",
    "    \"high school\": 2,\n",
    "    \"some college\": 3,\n",
    "    \"associate's degree\": 4,\n",
    "    \"bachelor's degree\": 5,\n",
    "    \"master's degree\": 6\n",
    "}\n",
    "model_data.label_encode('parental level of education', level_of_education_map)\n",
    "\n",
    "for col in category_cols:\n",
    "    model_data.one_hot_encode(col)"
   ]
  },
  {
   "cell_type": "code",
   "execution_count": 8,
   "metadata": {},
   "outputs": [
    {
     "data": {
      "text/html": [
       "<div>\n",
       "<style scoped>\n",
       "    .dataframe tbody tr th:only-of-type {\n",
       "        vertical-align: middle;\n",
       "    }\n",
       "\n",
       "    .dataframe tbody tr th {\n",
       "        vertical-align: top;\n",
       "    }\n",
       "\n",
       "    .dataframe thead th {\n",
       "        text-align: right;\n",
       "    }\n",
       "</style>\n",
       "<table border=\"1\" class=\"dataframe\">\n",
       "  <thead>\n",
       "    <tr style=\"text-align: right;\">\n",
       "      <th></th>\n",
       "      <th>parental level of education</th>\n",
       "      <th>math score</th>\n",
       "      <th>reading score</th>\n",
       "      <th>writing score</th>\n",
       "      <th>math score gender mean</th>\n",
       "      <th>math score gender median</th>\n",
       "      <th>math score gender min</th>\n",
       "      <th>math score gender max</th>\n",
       "      <th>math score gender stdev</th>\n",
       "      <th>math score gender count</th>\n",
       "      <th>...</th>\n",
       "      <th>math score norm</th>\n",
       "      <th>reading score norm</th>\n",
       "      <th>writing score norm</th>\n",
       "      <th>gender_male</th>\n",
       "      <th>race/ethnicity_group B</th>\n",
       "      <th>race/ethnicity_group C</th>\n",
       "      <th>race/ethnicity_group D</th>\n",
       "      <th>race/ethnicity_group E</th>\n",
       "      <th>lunch_standard</th>\n",
       "      <th>test preparation course_none</th>\n",
       "    </tr>\n",
       "  </thead>\n",
       "  <tbody>\n",
       "    <tr>\n",
       "      <th>0</th>\n",
       "      <td>5</td>\n",
       "      <td>72</td>\n",
       "      <td>72</td>\n",
       "      <td>74</td>\n",
       "      <td>0.925764</td>\n",
       "      <td>0.942029</td>\n",
       "      <td>0.0</td>\n",
       "      <td>1.0</td>\n",
       "      <td>1.0</td>\n",
       "      <td>1.0</td>\n",
       "      <td>...</td>\n",
       "      <td>0.72</td>\n",
       "      <td>0.72</td>\n",
       "      <td>0.74</td>\n",
       "      <td>0</td>\n",
       "      <td>1</td>\n",
       "      <td>0</td>\n",
       "      <td>0</td>\n",
       "      <td>0</td>\n",
       "      <td>1</td>\n",
       "      <td>1</td>\n",
       "    </tr>\n",
       "    <tr>\n",
       "      <th>1</th>\n",
       "      <td>3</td>\n",
       "      <td>69</td>\n",
       "      <td>90</td>\n",
       "      <td>88</td>\n",
       "      <td>0.925764</td>\n",
       "      <td>0.942029</td>\n",
       "      <td>0.0</td>\n",
       "      <td>1.0</td>\n",
       "      <td>1.0</td>\n",
       "      <td>1.0</td>\n",
       "      <td>...</td>\n",
       "      <td>0.69</td>\n",
       "      <td>0.90</td>\n",
       "      <td>0.88</td>\n",
       "      <td>0</td>\n",
       "      <td>0</td>\n",
       "      <td>1</td>\n",
       "      <td>0</td>\n",
       "      <td>0</td>\n",
       "      <td>1</td>\n",
       "      <td>0</td>\n",
       "    </tr>\n",
       "  </tbody>\n",
       "</table>\n",
       "<p>2 rows × 104 columns</p>\n",
       "</div>"
      ],
      "text/plain": [
       "   parental level of education  math score  reading score  writing score  \\\n",
       "0                            5          72             72             74   \n",
       "1                            3          69             90             88   \n",
       "\n",
       "   math score gender mean  math score gender median  math score gender min  \\\n",
       "0                0.925764                  0.942029                    0.0   \n",
       "1                0.925764                  0.942029                    0.0   \n",
       "\n",
       "   math score gender max  math score gender stdev  math score gender count  \\\n",
       "0                    1.0                      1.0                      1.0   \n",
       "1                    1.0                      1.0                      1.0   \n",
       "\n",
       "   ...  math score norm  reading score norm  writing score norm  gender_male  \\\n",
       "0  ...             0.72                0.72                0.74            0   \n",
       "1  ...             0.69                0.90                0.88            0   \n",
       "\n",
       "   race/ethnicity_group B  race/ethnicity_group C  race/ethnicity_group D  \\\n",
       "0                       1                       0                       0   \n",
       "1                       0                       1                       0   \n",
       "\n",
       "   race/ethnicity_group E  lunch_standard  test preparation course_none  \n",
       "0                       0               1                             1  \n",
       "1                       0               1                             0  \n",
       "\n",
       "[2 rows x 104 columns]"
      ]
     },
     "execution_count": 8,
     "metadata": {},
     "output_type": "execute_result"
    }
   ],
   "source": [
    "model_data.data.head(2)"
   ]
  },
  {
   "cell_type": "markdown",
   "metadata": {},
   "source": [
    "## Build Models"
   ]
  },
  {
   "cell_type": "code",
   "execution_count": 9,
   "metadata": {},
   "outputs": [],
   "source": [
    "lin_reg = LinearRegression()\n",
    "svm_reg = LinearSVR(epsilon=2, C=30)\n",
    "rf_reg = RandomForestRegressor(n_estimators=25, max_depth=4, max_features=None)\n",
    "gb_reg = GradientBoostingRegressor(n_estimators=25, max_depth=4)\n",
    "\n",
    "feature_compare = pd.DataFrame(columns=['Training_R2', 'Test_R2', 'Root Mean Squared Error', 'Cross Validation Score'])\n",
    "model_compare = pd.DataFrame(columns=['Training_R2', 'Test_R2', 'Root Mean Squared Error', 'Cross Validation Score'])"
   ]
  },
  {
   "cell_type": "markdown",
   "metadata": {},
   "source": [
    "### Finding the Right Features"
   ]
  },
  {
   "cell_type": "code",
   "execution_count": 10,
   "metadata": {},
   "outputs": [],
   "source": [
    "experimental_features1m = ['reading score norm', 'writing score norm']\n",
    "experimental_features1r = ['math score norm', 'writing score norm']\n",
    "experimental_features1w = ['math score norm', 'reading score norm']\n",
    "experimental_features2 = ['gender_male', 'race/ethnicity_group B', 'race/ethnicity_group C', 'race/ethnicity_group D', \n",
    "                         'race/ethnicity_group E', 'parental level of education', 'lunch_standard', \n",
    "                         'test preparation course_none']\n",
    "experimental_features3 = group_metric_cols"
   ]
  },
  {
   "cell_type": "markdown",
   "metadata": {},
   "source": [
    "#### Predicting Math Score"
   ]
  },
  {
   "cell_type": "code",
   "execution_count": 11,
   "metadata": {},
   "outputs": [],
   "source": [
    "math_features = list(model_data.data.columns)\n",
    "\n",
    "remove_cols = ['math score', 'reading score', 'writing score', 'math score norm']\n",
    "for col in remove_cols:\n",
    "    math_features.remove(col)\n",
    "\n",
    "math_target = 'math score'"
   ]
  },
  {
   "cell_type": "code",
   "execution_count": 12,
   "metadata": {},
   "outputs": [],
   "source": [
    "lreg_m_e1 = Model(lin_reg, model_data.data, experimental_features1m, math_target, 'Linear Regression - Math - E1 - Other Scores')\n",
    "lreg_m_e1.build_model(feature_compare)\n",
    "lreg_m_e1.cross_validate(4, feature_compare)\n",
    "\n",
    "lreg_m_e2 = Model(lin_reg, model_data.data, experimental_features2, math_target, 'Linear Regression - Math - E2 - Individual Demographic')\n",
    "lreg_m_e2.build_model(feature_compare)\n",
    "lreg_m_e2.cross_validate(4, feature_compare)\n",
    "\n",
    "lreg_m_e3 = Model(lin_reg, model_data.data, experimental_features3, math_target, 'Linear Regression - Math - E3 - Group')\n",
    "lreg_m_e3.build_model(feature_compare)\n",
    "lreg_m_e3.cross_validate(4, feature_compare)\n",
    "\n",
    "lreg_m_e12 = Model(lin_reg, model_data.data, (experimental_features1m + experimental_features2), math_target, 'Linear Regression - Math - E1 + E2')\n",
    "lreg_m_e12.build_model(feature_compare)\n",
    "lreg_m_e12.cross_validate(4, feature_compare)\n",
    "\n",
    "lreg_m_e13 = Model(lin_reg, model_data.data, (experimental_features1m + experimental_features3), math_target, 'Linear Regression - Math - E1 + E3')\n",
    "lreg_m_e13.build_model(feature_compare)\n",
    "lreg_m_e13.cross_validate(4, feature_compare)\n",
    "\n",
    "lreg_m_e23 = Model(lin_reg, model_data.data, (experimental_features2 + experimental_features3), math_target, 'Linear Regression - Math - E2 + E3')\n",
    "lreg_m_e23.build_model(feature_compare)\n",
    "lreg_m_e23.cross_validate(4, feature_compare)\n",
    "\n",
    "lreg_m = Model(lin_reg, model_data.data, math_features, math_target, 'Linear Regression - Math - All')\n",
    "lreg_m.build_model(feature_compare)\n",
    "lreg_m.cross_validate(4, feature_compare)"
   ]
  },
  {
   "cell_type": "code",
   "execution_count": 13,
   "metadata": {},
   "outputs": [
    {
     "data": {
      "text/html": [
       "<div>\n",
       "<style scoped>\n",
       "    .dataframe tbody tr th:only-of-type {\n",
       "        vertical-align: middle;\n",
       "    }\n",
       "\n",
       "    .dataframe tbody tr th {\n",
       "        vertical-align: top;\n",
       "    }\n",
       "\n",
       "    .dataframe thead th {\n",
       "        text-align: right;\n",
       "    }\n",
       "</style>\n",
       "<table border=\"1\" class=\"dataframe\">\n",
       "  <thead>\n",
       "    <tr style=\"text-align: right;\">\n",
       "      <th></th>\n",
       "      <th>Training_R2</th>\n",
       "      <th>Test_R2</th>\n",
       "      <th>Root Mean Squared Error</th>\n",
       "      <th>Cross Validation Score</th>\n",
       "    </tr>\n",
       "  </thead>\n",
       "  <tbody>\n",
       "  </tbody>\n",
       "</table>\n",
       "</div>"
      ],
      "text/plain": [
       "Empty DataFrame\n",
       "Columns: [Training_R2, Test_R2, Root Mean Squared Error, Cross Validation Score]\n",
       "Index: []"
      ]
     },
     "execution_count": 13,
     "metadata": {},
     "output_type": "execute_result"
    }
   ],
   "source": [
    "model_compare"
   ]
  },
  {
   "cell_type": "code",
   "execution_count": 14,
   "metadata": {},
   "outputs": [],
   "source": [
    "# lreg_m_b.get_coefficients()"
   ]
  },
  {
   "cell_type": "code",
   "execution_count": 15,
   "metadata": {},
   "outputs": [
    {
     "data": {
      "text/plain": [
       "math score gender count                          1.622272e+14\n",
       "math score parental level of education min       7.847690e+13\n",
       "reading score parental level of education min    6.469358e+13\n",
       "math score gender stdev                          5.735331e+13\n",
       "writing score race/ethnicity min                 5.618206e+13\n",
       "                                                     ...     \n",
       "reading score test preparation course count     -3.943875e+13\n",
       "writing score test preparation course count     -3.943875e+13\n",
       "reading score test preparation course min       -5.174328e+13\n",
       "writing score gender median                     -5.375424e+13\n",
       "math score gender median                        -1.331619e+14\n",
       "Length: 100, dtype: float64"
      ]
     },
     "execution_count": 15,
     "metadata": {},
     "output_type": "execute_result"
    }
   ],
   "source": [
    "lreg_m.get_coefficients()"
   ]
  },
  {
   "cell_type": "markdown",
   "metadata": {},
   "source": [
    "#### Predicting Reading Score"
   ]
  },
  {
   "cell_type": "code",
   "execution_count": 16,
   "metadata": {},
   "outputs": [],
   "source": [
    "reading_features = list(model_data.data.columns)\n",
    "\n",
    "remove_cols = ['math score', 'reading score', 'writing score', 'reading score norm']\n",
    "for col in remove_cols:\n",
    "    reading_features.remove(col)\n",
    "\n",
    "reading_target = 'reading score'"
   ]
  },
  {
   "cell_type": "code",
   "execution_count": 17,
   "metadata": {},
   "outputs": [],
   "source": [
    "lreg_r_e1 = Model(lin_reg, model_data.data, experimental_features1r, reading_target, 'Linear Regression - Reading - E1 - Other Scores')\n",
    "lreg_r_e1.build_model(feature_compare)\n",
    "lreg_r_e1.cross_validate(4, feature_compare)\n",
    "\n",
    "lreg_r_e2 = Model(lin_reg, model_data.data, experimental_features2, reading_target, 'Linear Regression - Reading - E2 - Individual Demographic')\n",
    "lreg_r_e2.build_model(feature_compare)\n",
    "lreg_r_e2.cross_validate(4, feature_compare)\n",
    "\n",
    "lreg_r_e3 = Model(lin_reg, model_data.data, experimental_features3, reading_target, 'Linear Regression - Reading - E3 - Group')\n",
    "lreg_r_e3.build_model(feature_compare)\n",
    "lreg_r_e3.cross_validate(4, feature_compare)\n",
    "\n",
    "lreg_r_e12 = Model(lin_reg, model_data.data, (experimental_features1r + experimental_features2), reading_target, 'Linear Regression - Reading - E1 + E2')\n",
    "lreg_r_e12.build_model(feature_compare)\n",
    "lreg_r_e12.cross_validate(4, feature_compare)\n",
    "\n",
    "lreg_r_e13 = Model(lin_reg, model_data.data, (experimental_features1r + experimental_features3), reading_target, 'Linear Regression - Reading - E1 + E3')\n",
    "lreg_r_e13.build_model(feature_compare)\n",
    "lreg_r_e13.cross_validate(4, feature_compare)\n",
    "\n",
    "lreg_r_e23 = Model(lin_reg, model_data.data, (experimental_features2 + experimental_features3), reading_target, 'Linear Regression - Reading - E2 + E3')\n",
    "lreg_r_e23.build_model(feature_compare)\n",
    "lreg_r_e23.cross_validate(4, feature_compare)\n",
    "\n",
    "lreg_r = Model(lin_reg, model_data.data, reading_features, reading_target, 'Linear Regression - Reading - All')\n",
    "lreg_r.build_model(feature_compare)\n",
    "lreg_r.cross_validate(4, feature_compare)"
   ]
  },
  {
   "cell_type": "code",
   "execution_count": 18,
   "metadata": {},
   "outputs": [
    {
     "data": {
      "text/html": [
       "<div>\n",
       "<style scoped>\n",
       "    .dataframe tbody tr th:only-of-type {\n",
       "        vertical-align: middle;\n",
       "    }\n",
       "\n",
       "    .dataframe tbody tr th {\n",
       "        vertical-align: top;\n",
       "    }\n",
       "\n",
       "    .dataframe thead th {\n",
       "        text-align: right;\n",
       "    }\n",
       "</style>\n",
       "<table border=\"1\" class=\"dataframe\">\n",
       "  <thead>\n",
       "    <tr style=\"text-align: right;\">\n",
       "      <th></th>\n",
       "      <th>Training_R2</th>\n",
       "      <th>Test_R2</th>\n",
       "      <th>Root Mean Squared Error</th>\n",
       "      <th>Cross Validation Score</th>\n",
       "    </tr>\n",
       "  </thead>\n",
       "  <tbody>\n",
       "  </tbody>\n",
       "</table>\n",
       "</div>"
      ],
      "text/plain": [
       "Empty DataFrame\n",
       "Columns: [Training_R2, Test_R2, Root Mean Squared Error, Cross Validation Score]\n",
       "Index: []"
      ]
     },
     "execution_count": 18,
     "metadata": {},
     "output_type": "execute_result"
    }
   ],
   "source": [
    "model_compare"
   ]
  },
  {
   "cell_type": "code",
   "execution_count": 19,
   "metadata": {},
   "outputs": [],
   "source": [
    "# lreg_r_b.get_coefficients()"
   ]
  },
  {
   "cell_type": "code",
   "execution_count": 20,
   "metadata": {},
   "outputs": [
    {
     "data": {
      "text/plain": [
       "gender_male                                   2.060985e+13\n",
       "reading score gender median                   6.056138e+12\n",
       "math score gender median                      5.129107e+12\n",
       "reading score gender max                      4.588321e+12\n",
       "writing score gender max                      3.873236e+12\n",
       "                                                  ...     \n",
       "math score parental level of education min   -2.618543e+12\n",
       "math score gender max                        -2.984443e+12\n",
       "writing score lunch min                      -2.987795e+12\n",
       "reading score gender min                     -3.959541e+12\n",
       "math score gender min                        -1.851943e+13\n",
       "Length: 100, dtype: float64"
      ]
     },
     "execution_count": 20,
     "metadata": {},
     "output_type": "execute_result"
    }
   ],
   "source": [
    "lreg_r.get_coefficients()"
   ]
  },
  {
   "cell_type": "markdown",
   "metadata": {},
   "source": [
    "#### Predicting Writing Score"
   ]
  },
  {
   "cell_type": "code",
   "execution_count": 21,
   "metadata": {},
   "outputs": [],
   "source": [
    "writing_features = list(model_data.data.columns)\n",
    "\n",
    "remove_cols = ['math score', 'reading score', 'writing score', 'writing score norm']\n",
    "for col in remove_cols:\n",
    "    writing_features.remove(col)\n",
    "\n",
    "writing_target = 'writing score'"
   ]
  },
  {
   "cell_type": "code",
   "execution_count": 22,
   "metadata": {},
   "outputs": [],
   "source": [
    "lreg_w_e1 = Model(lin_reg, model_data.data, experimental_features1w, writing_target, 'Linear Regression - Writing - E1 - Other Scores')\n",
    "lreg_w_e1.build_model(feature_compare)\n",
    "lreg_w_e1.cross_validate(4, feature_compare)\n",
    "\n",
    "lreg_w_e2 = Model(lin_reg, model_data.data, experimental_features2, writing_target, 'Linear Regression - Writing - E2 - Individual Demographic')\n",
    "lreg_w_e2.build_model(feature_compare)\n",
    "lreg_w_e2.cross_validate(4, feature_compare)\n",
    "\n",
    "lreg_w_e3 = Model(lin_reg, model_data.data, experimental_features3, writing_target, 'Linear Regression - Writing - E3 - Group')\n",
    "lreg_w_e3.build_model(feature_compare)\n",
    "lreg_w_e3.cross_validate(4, feature_compare)\n",
    "\n",
    "lreg_w_e12 = Model(lin_reg, model_data.data, (experimental_features1w + experimental_features2), writing_target, 'Linear Regression - Writing - E1 + E2')\n",
    "lreg_w_e12.build_model(feature_compare)\n",
    "lreg_w_e12.cross_validate(4, feature_compare)\n",
    "\n",
    "lreg_w_e13 = Model(lin_reg, model_data.data, (experimental_features1w + experimental_features3), writing_target, 'Linear Regression - Writing - E1 + E3')\n",
    "lreg_w_e13.build_model(feature_compare)\n",
    "lreg_w_e13.cross_validate(4, feature_compare)\n",
    "\n",
    "lreg_w_e23 = Model(lin_reg, model_data.data, (experimental_features2 + experimental_features3), writing_target, 'Linear Regression - Writing - E2 + E3')\n",
    "lreg_w_e23.build_model(feature_compare)\n",
    "lreg_w_e23.cross_validate(4, feature_compare)\n",
    "\n",
    "lreg_w = Model(lin_reg, model_data.data, writing_features, writing_target, 'Linear Regression - Writing - All')\n",
    "lreg_w.build_model(feature_compare)\n",
    "lreg_w.cross_validate(4, feature_compare)"
   ]
  },
  {
   "cell_type": "code",
   "execution_count": 23,
   "metadata": {},
   "outputs": [
    {
     "data": {
      "text/html": [
       "<div>\n",
       "<style scoped>\n",
       "    .dataframe tbody tr th:only-of-type {\n",
       "        vertical-align: middle;\n",
       "    }\n",
       "\n",
       "    .dataframe tbody tr th {\n",
       "        vertical-align: top;\n",
       "    }\n",
       "\n",
       "    .dataframe thead th {\n",
       "        text-align: right;\n",
       "    }\n",
       "</style>\n",
       "<table border=\"1\" class=\"dataframe\">\n",
       "  <thead>\n",
       "    <tr style=\"text-align: right;\">\n",
       "      <th></th>\n",
       "      <th>Training_R2</th>\n",
       "      <th>Test_R2</th>\n",
       "      <th>Root Mean Squared Error</th>\n",
       "      <th>Cross Validation Score</th>\n",
       "    </tr>\n",
       "  </thead>\n",
       "  <tbody>\n",
       "  </tbody>\n",
       "</table>\n",
       "</div>"
      ],
      "text/plain": [
       "Empty DataFrame\n",
       "Columns: [Training_R2, Test_R2, Root Mean Squared Error, Cross Validation Score]\n",
       "Index: []"
      ]
     },
     "execution_count": 23,
     "metadata": {},
     "output_type": "execute_result"
    }
   ],
   "source": [
    "model_compare"
   ]
  },
  {
   "cell_type": "code",
   "execution_count": 24,
   "metadata": {},
   "outputs": [],
   "source": [
    "# lreg_w_b.get_coefficients()"
   ]
  },
  {
   "cell_type": "code",
   "execution_count": 25,
   "metadata": {},
   "outputs": [
    {
     "data": {
      "text/plain": [
       "gender_male                                      4.797787e+13\n",
       "math score gender count                          3.744006e+13\n",
       "math score gender mean                           3.045076e+13\n",
       "math score gender median                         2.968024e+13\n",
       "parental level of education                      2.677448e+13\n",
       "                                                     ...     \n",
       "reading score gender max                        -3.670179e+13\n",
       "math score gender min                           -4.774803e+13\n",
       "math score gender stdev                         -6.388830e+13\n",
       "reading score parental level of education min   -6.757964e+13\n",
       "math score parental level of education min      -9.853301e+13\n",
       "Length: 100, dtype: float64"
      ]
     },
     "execution_count": 25,
     "metadata": {},
     "output_type": "execute_result"
    }
   ],
   "source": [
    "lreg_w.get_coefficients()"
   ]
  },
  {
   "cell_type": "markdown",
   "metadata": {},
   "source": [
    "### Comparing Models"
   ]
  },
  {
   "cell_type": "code",
   "execution_count": 26,
   "metadata": {},
   "outputs": [
    {
     "name": "stderr",
     "output_type": "stream",
     "text": [
      "/home/antiri/anaconda3/lib/python3.7/site-packages/sklearn/svm/_base.py:947: ConvergenceWarning: Liblinear failed to converge, increase the number of iterations.\n",
      "  \"the number of iterations.\", ConvergenceWarning)\n",
      "/home/antiri/anaconda3/lib/python3.7/site-packages/sklearn/svm/_base.py:947: ConvergenceWarning: Liblinear failed to converge, increase the number of iterations.\n",
      "  \"the number of iterations.\", ConvergenceWarning)\n",
      "/home/antiri/anaconda3/lib/python3.7/site-packages/sklearn/svm/_base.py:947: ConvergenceWarning: Liblinear failed to converge, increase the number of iterations.\n",
      "  \"the number of iterations.\", ConvergenceWarning)\n",
      "/home/antiri/anaconda3/lib/python3.7/site-packages/sklearn/svm/_base.py:947: ConvergenceWarning: Liblinear failed to converge, increase the number of iterations.\n",
      "  \"the number of iterations.\", ConvergenceWarning)\n",
      "/home/antiri/anaconda3/lib/python3.7/site-packages/sklearn/svm/_base.py:947: ConvergenceWarning: Liblinear failed to converge, increase the number of iterations.\n",
      "  \"the number of iterations.\", ConvergenceWarning)\n"
     ]
    }
   ],
   "source": [
    "lreg_w = Model(lin_reg, model_data.data, writing_features, writing_target, 'Linear Regression - Writing')\n",
    "lreg_w.build_model(model_compare)\n",
    "lreg_w.cross_validate(4, model_compare)\n",
    "\n",
    "svm_w = Model(svm_reg, model_data.data, writing_features, writing_target, 'Support Vector Machine - Writing')\n",
    "svm_w.build_model(model_compare)\n",
    "svm_w.cross_validate(4, model_compare)\n",
    "\n",
    "rf_w = Model(rf_reg, model_data.data, writing_features, writing_target, 'Random Forest - Writing')\n",
    "rf_w.build_model(model_compare)\n",
    "rf_w.cross_validate(4, model_compare)\n",
    "\n",
    "gb_w = Model(gb_reg, model_data.data, writing_features, writing_target, 'Gradient Boosting - Writing')\n",
    "gb_w.build_model(model_compare)\n",
    "gb_w.cross_validate(4, model_compare)"
   ]
  },
  {
   "cell_type": "code",
   "execution_count": 27,
   "metadata": {},
   "outputs": [
    {
     "data": {
      "text/html": [
       "<div>\n",
       "<style scoped>\n",
       "    .dataframe tbody tr th:only-of-type {\n",
       "        vertical-align: middle;\n",
       "    }\n",
       "\n",
       "    .dataframe tbody tr th {\n",
       "        vertical-align: top;\n",
       "    }\n",
       "\n",
       "    .dataframe thead th {\n",
       "        text-align: right;\n",
       "    }\n",
       "</style>\n",
       "<table border=\"1\" class=\"dataframe\">\n",
       "  <thead>\n",
       "    <tr style=\"text-align: right;\">\n",
       "      <th></th>\n",
       "      <th>Training_R2</th>\n",
       "      <th>Test_R2</th>\n",
       "      <th>Root Mean Squared Error</th>\n",
       "      <th>Cross Validation Score</th>\n",
       "    </tr>\n",
       "  </thead>\n",
       "  <tbody>\n",
       "    <tr>\n",
       "      <th>Linear Regression - Writing</th>\n",
       "      <td>0.948337</td>\n",
       "      <td>0.943697</td>\n",
       "      <td>3.667011</td>\n",
       "      <td>3.528955</td>\n",
       "    </tr>\n",
       "    <tr>\n",
       "      <th>Support Vector Machine - Writing</th>\n",
       "      <td>0.948071</td>\n",
       "      <td>0.933678</td>\n",
       "      <td>3.868197</td>\n",
       "      <td>3.651729</td>\n",
       "    </tr>\n",
       "    <tr>\n",
       "      <th>Random Forest - Writing</th>\n",
       "      <td>0.924069</td>\n",
       "      <td>0.919896</td>\n",
       "      <td>4.432069</td>\n",
       "      <td>4.512939</td>\n",
       "    </tr>\n",
       "    <tr>\n",
       "      <th>Gradient Boosting - Writing</th>\n",
       "      <td>0.944847</td>\n",
       "      <td>0.922375</td>\n",
       "      <td>4.305004</td>\n",
       "      <td>4.179977</td>\n",
       "    </tr>\n",
       "  </tbody>\n",
       "</table>\n",
       "</div>"
      ],
      "text/plain": [
       "                                  Training_R2   Test_R2  \\\n",
       "Linear Regression - Writing          0.948337  0.943697   \n",
       "Support Vector Machine - Writing     0.948071  0.933678   \n",
       "Random Forest - Writing              0.924069  0.919896   \n",
       "Gradient Boosting - Writing          0.944847  0.922375   \n",
       "\n",
       "                                  Root Mean Squared Error  \\\n",
       "Linear Regression - Writing                      3.667011   \n",
       "Support Vector Machine - Writing                 3.868197   \n",
       "Random Forest - Writing                          4.432069   \n",
       "Gradient Boosting - Writing                      4.305004   \n",
       "\n",
       "                                  Cross Validation Score  \n",
       "Linear Regression - Writing                     3.528955  \n",
       "Support Vector Machine - Writing                3.651729  \n",
       "Random Forest - Writing                         4.512939  \n",
       "Gradient Boosting - Writing                     4.179977  "
      ]
     },
     "execution_count": 27,
     "metadata": {},
     "output_type": "execute_result"
    }
   ],
   "source": [
    "model_compare"
   ]
  }
 ],
 "metadata": {
  "kernelspec": {
   "display_name": "Python 3",
   "language": "python",
   "name": "python3"
  },
  "language_info": {
   "codemirror_mode": {
    "name": "ipython",
    "version": 3
   },
   "file_extension": ".py",
   "mimetype": "text/x-python",
   "name": "python",
   "nbconvert_exporter": "python",
   "pygments_lexer": "ipython3",
   "version": "3.7.6"
  }
 },
 "nbformat": 4,
 "nbformat_minor": 4
}
